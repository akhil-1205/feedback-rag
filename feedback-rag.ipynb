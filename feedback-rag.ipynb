{
 "cells": [
  {
   "cell_type": "code",
   "execution_count": 1,
   "id": "0c8d1f9c",
   "metadata": {},
   "outputs": [
    {
     "name": "stderr",
     "output_type": "stream",
     "text": [
      "c:\\Users\\Akhil\\projects2\\anukta-rag\\venv\\Lib\\site-packages\\tqdm\\auto.py:21: TqdmWarning: IProgress not found. Please update jupyter and ipywidgets. See https://ipywidgets.readthedocs.io/en/stable/user_install.html\n",
      "  from .autonotebook import tqdm as notebook_tqdm\n"
     ]
    }
   ],
   "source": [
    "from sentence_transformers import SentenceTransformer\n",
    "import numpy as np\n",
    "import faiss\n",
    "import pdfplumber"
   ]
  },
  {
   "cell_type": "markdown",
   "id": "bfaf3dd2",
   "metadata": {},
   "source": [
    "# 1. Importing .txt document and chunking"
   ]
  },
  {
   "cell_type": "code",
   "execution_count": 24,
   "id": "4756b2d0",
   "metadata": {},
   "outputs": [],
   "source": [
    "def chunk_text_simple(text, max_tokens):\n",
    "    # Split the text into words\n",
    "    words = text.split()\n",
    "\n",
    "    # Group words into chunks of at most max_tokens\n",
    "    chunks = [\n",
    "        \" \".join(words[i:i + max_tokens])\n",
    "        for i in range(0, len(words), max_tokens)\n",
    "    ]\n",
    "\n",
    "    return chunks\n",
    "\n",
    "with open('hp_manual.txt', 'r', encoding='utf-8') as f:\n",
    "    full_text = f.read()\n"
   ]
  },
  {
   "cell_type": "code",
   "execution_count": 25,
   "id": "88ccda12",
   "metadata": {},
   "outputs": [],
   "source": [
    "data = chunk_text_simple(full_text, 500)"
   ]
  },
  {
   "cell_type": "code",
   "execution_count": 26,
   "id": "2d24451a",
   "metadata": {},
   "outputs": [
    {
     "data": {
      "text/plain": [
       "['User Guide © Copyright 2014 Hewlett-Packard Development Company, L.P. Bluetooth is a trademark owned by its proprietor and used by Hewlett-Packard Company under license. Intel is a trademark of Intel Corporation in the U.S. and other countries. Microsoft and Windows are U.S. registered trademarks of the Microsoft group of companies. The information contained herein is subject to change without notice. The only warranties for HP products and services are set forth in the express warranty statements accompanying such products and services. Nothing herein should be construed as constituting an additional warranty. HP shall not be liable for technical or editorial errors or omissions contained herein. Second Edition: October 2014 First Edition: September 2014 Document Part Number: 793368-002 Product notice This guide describes features that are common to most models. Some features may not be available on your tablet. Not all features are available in all editions of Windows. This tablet may require upgraded and/or separately purchased hardware, drivers and/or software to take full advantage of Windows functionality. Go to http://www.microsoft.com for details. To access the latest user guide, go to http://www.hp.com/support, and select your country. Select Drivers & Downloads, and then follow the on-screen instructions. Software terms By installing, copying, downloading, or otherwise using any software product preinstalled on this tablet, you agree to be bound by the terms of the HP End User License Agreement (EULA). If you do not accept these license terms, your sole remedy is to return the entire unused product (hardware and software) within 14 days for a full refund, subject to the refund policy of your seller. For any further information or to request a full refund of the price of the tablet, please contact your seller. Safety warning notice WARNING! To reduce the possibility of heat-related injuries or of overheating the computer, do not place the computer directly on your lap or obstruct the computer air vents. Use the computer only on a hard, flat surface. Do not allow another hard surface, such as an adjoining optional printer, or a soft surface, such as pillows or rugs or clothing, to block airflow. Also, do not allow the AC adapter to come into contact with the skin or a soft surface, such as pillows or rugs or clothing, during operation. The computer and the AC adapter comply with the user-accessible surface temperature limits defined by the International Standard for Safety of Information Technology Equipment (IEC 60950). iii iv Safety warning notice Processor configuration setting (select models only) IMPORTANT: Select computer models are configured with an Intel® Atom® processor and a Windows® operating system. On these models, do not change the processor configuration setting in msconfig.exe from 4 or 2 processors to 1 processor. If you do so, your tablet will not restart. You will have to perform a factory reset to restore the original settings. v vi Processor configuration setting (select models only) Table of contents 1 Starting right ...................................................................................................................................................... 1 More HP resources .............................................................................................................................. 1 2 Connecting to a network ................................................................................................................................... 3 Connecting',\n",
       " 'to a wireless network ......................................................................................................... 3 Using the wireless controls .................................................................................................. 3 Connecting to a WLAN ........................................................................................................ 4 Using Bluetooth wireless devices (select models only) ....................................................... 4 3 Enjoying entertainment features ....................................................................................................................... 5 Using a webcam (select models only) .................................................................................................. 5 Using audio .......................................................................................................................................... 5 Connecting speakers ........................................................................................................... 5 Connecting headphones ...................................................................................................... 5 Connecting headsets ........................................................................................................... 6 Using video ........................................................................................................................................... 6 Connecting video devices using an HDMI cable (select models only) ................................ 6 Setting up HDMI audio ........................................................................................ 7 Connecting digital display devices using a DisplayPort cable (select models only) ............ 7 Connecting Miracast-compatible wireless displays (select models only) ............................ 8 4 Navigating the screen ....................................................................................................................................... 9 Using the touch gestures ...................................................................................................................... 9 Tap ....................................................................................................................................... 9 Two-finger scroll .................................................................................................................. 9 Two-finger pinch zoom ...................................................................................................... 10 Two-finger click .................................................................................................................. 10 Right-edge swipe ............................................................................................................... 10 Left-edge swipe ................................................................................................................. 11 Top-edge swipe and bottom-edge swipe ........................................................................... 11 One-finger slide ................................................................................................................. 11 5 Managing power ............................................................................................................................................. 12 Initiating and exiting Sleep and Hibernation ....................................................................................... 12 Manually initiating and exiting Sleep .................................................................................. 13 Manually initiating and exiting Hibernation (select models only) ....................................... 13 vii Setting password protection on wakeup (exiting Sleep or Hibernation) ............................ 13 Running on battery power .................................................................................................................. 14 Factory-sealed battery ....................................................................................................... 14 Finding battery information ................................................................................................ 14 Conserving battery power .................................................................................................. 14 Running on AC power ........................................................................................................................ 15 Troubleshooting power problems ...................................................................................... 15 Shutting down (turning off) the tablet ................................................................................................. 16 6 Maintaining your tablet .................................................................................................................................... 17 Improving performance ...................................................................................................................... 17 Using Disk Cleanup ........................................................................................................... 17 Updating programs and drivers .......................................................................................................... 17 Cleaning your tablet ........................................................................................................................... 18 Cleaning procedures .......................................................................................................... 18 Cleaning the display .......................................................................................... 18 Cleaning the sides or cover ............................................................................... 18 Traveling with or shipping your tablet ................................................................................................. 19 7 Securing your tablet and information .............................................................................................................. 20 Using passwords ................................................................................................................................ 20 Setting Windows passwords .............................................................................................. 20 Setting Setup Utility (BIOS) passwords ............................................................................. 21 Using Internet security software ......................................................................................................... 21 Using antivirus software ..................................................................................................... 21 Using firewall software ....................................................................................................... 22 Installing software updates ................................................................................................................. 22 Installing critical security updates ....................................................................................................... 22 Securing your wireless network .......................................................................................................... 22 Backing up your software applications and information ..................................................................... 22 8 Using HP PC Hardware Diagnostics (UEFI) ................................................................................................... 23 Downloading HP PC Hardware Diagnostics (UEFI) to a USB device ................................................ 24 9 Backup and recovery ...................................................................................................................................... 25 Backing up your information ............................................................................................................... 25 Performing a system recovery ............................................................................................................ 25 Changing the boot device order ......................................................................................... 25 Using Windows Refresh or Windows Reset ...................................................................... 26 viii 10 Specifications ................................................................................................................................................ 27 Input power ......................................................................................................................................... 27 Operating environment ....................................................................................................................... 27 11 Electrostatic Discharge ................................................................................................................................. 28 Index ................................................................................................................................................................... 29 ix x 1 Starting right This tablet is a powerful tool designed to enhance your work and entertainment. Read this chapter to learn about best practices after you set up your tablet and about where to find additional HP resources. More HP resources To locate resources that provide product details, how-to information, and more, use this table. Resource Contents Quick Setup ● Overview of tablet setup and features Help and Support To access Help and Support: ▲ From the Start',\n",
       " 'screen, tap http://www.hp.com/go/contactHP. For worldwide support, go to http://welcome.hp.com/ country/us/en/wwcontact_us.html. ● A broad range of how-to information and troubleshooting tips Worldwide support To get support in your language, go to http://welcome.hp.com/country/us/en/ wwcontact_us.html. ● Online chat with an HP technician ● Support telephone numbers ● HP service center locations Safety & Comfort Guide To access this guide: 1. From the Start screen, , type support, and then select the HP Support Assistant app. ‒ or – From the Windows desktop, tap the question mark icon in the notification area, at the far right of the taskbar. 2. Select My computer, and then select User guides. ‒ or – Go to http://www.hp.com/ergo. ● Proper workstation setup ● Guidelines for posture and work habits that increase your comfort and decrease your risk of injury ● Electrical and mechanical safety information Regulatory, Safety and Environmental Notices To access this document: 1. From the Start screen, tap , type support, and then select the HP Support Assistant app. ● Important regulatory notices, including information about proper battery disposal More HP resources 1 Resource Contents ‒ or – From the Windows desktop, tap the question mark icon in the notification area, at the far right of the taskbar. 2. Select My computer, and then select User guides. Limited Warranty* To access this document: 1. From the Start screen, tap , type support, and then select the HP Support Assistant app. ‒ or – From the Windows desktop, tap the question mark icon in the notification area, at the far right of the taskbar. 2. Select My computer, and then select Warranty and services. ‒ or – Go to http://www.hp.com/go/orderdocuments. ● Specific warranty information about this tablet *You can find the expressly provided HP Limited Warranty applicable to your product located with the user guides on your tablet and/or on the CD/DVD provided in the box. In some countries/regions, HP may provide a printed HP Limited Warranty in the box. For countries/regions where the warranty is not provided in printed format, you may request a printed copy from http://www.hp.com/go/orderdocuments or write to: ● North America: Hewlett-Packard, MS POD, 11311 Chinden Blvd., Boise, ID 83714, USA ● Europe, Middle East, Africa: Hewlett-Packard, POD, Via G. Di Vittorio, 9, 20063, Cernusco s/Naviglio (MI), Italy ● Asia Pacific: Hewlett-Packard, POD, P.O. Box 200, Alexandra Post Office, Singapore 911507 When you request a printed copy of your warranty, please include your product number, warranty period (found on your service label), name, and postal address. IMPORTANT: Do NOT return your HP product to the addresses above. For U.S. support, go to http://www.hp.com/go/ contactHP. For worldwide support, go to http://welcome.hp.com/country/us/en/wwcontact_us.html. 2 Chapter 1 Starting right 2 Connecting to a network Your tablet can travel with you wherever you go. But even at home, you can explore the globe and access information from millions of websites using your tablet and a wired or wireless network connection. This chapter will help you get connected to that world. Connecting to a wireless network Your tablet may',\n",
       " 'be equipped with one or more of the following wireless devices: ● WLAN device—Connects the tablet to wireless local area networks (commonly referred to as WiFi networks, wireless LANs, or WLANs) in corporate offices, your home, and public places such as airports, restaurants, coffee shops, hotels, and universities. In a WLAN, the mobile wireless device in your tablet communicates with a wireless router or a wireless access point. ● Bluetooth device—Creates a personal area network (PAN) to connect to other Bluetoothenabled devices such as tablets, phones, printers, headsets, speakers, and cameras. In a PAN, each device communicates directly with other devices, and devices must be relatively close together—typically within 10 meters (approximately 33 feet) of each other. For more information about wireless technology, the Internet, and networking, see the information and website links provided in Help and Support. ▲ From the Start screen, tap , type help, and then select Help and Support. ‒ or – From the Windows desktop, tap the question mark icon in the notification area, at the far right of the taskbar. Using the wireless controls You can control the wireless devices in your tablet using the operating system controls. The Network and Sharing Center allows you to set up a connection or network, connect to a network, and diagnose and repair network problems. To use operating system controls: 1. From the Start screen, tap , type control panel, and then select Control Panel. 2. Select Network and Internet, and then select Network and Sharing Center. For more information, see the information provided in Help and Support. ▲ From the Start screen, tap , type help, and then select Help and Support. ‒ or – From the Windows desktop, tap the question mark icon in the notification area, at the far right of the taskbar. Connecting to a wireless network 3 Connecting to a WLAN To connect to a WLAN, follow these steps: 1. Be sure that the WLAN device is on. 2. Swipe from the right edge of the Start screen or the Windows desktop, to reveal the charms. 3. Select Settings, and then tap the network status icon. 4. Select your WLAN from the list. 5. Tap Connect. If the WLAN is a security-enabled WLAN, you are prompted to enter a security code. Type the code, and then tap Next to complete the connection. NOTE: If no WLANs are listed, you may be out of range of a wireless router or access point. NOTE: If you do not see the WLAN you want to connect to, from the Windows desktop, tap and hold the network status icon, and then select Open Network and Sharing Center. Tap Set up a new connection or network. A list of options is displayed, allowing you to manually search for and connect to a network or to create a new network connection. 6. Follow the on-screen instructions to complete the connection. After the connection is made, tap the network status icon in the notification area, at the far right',\n",
       " \"of the taskbar, to verify the name and status of the connection. Using Bluetooth wireless devices (select models only) A Bluetooth device provides short-range wireless communications that replace the physical cable connections that traditionally link electronic devices such as the following: ● Computers (desktop, notebook, tablet) ● Phones (cellular, cordless, smartphone) ● Imaging devices (printer, camera) ● Audio devices (headset, speakers) ● Mouse ● External keyboard Bluetooth devices provide peer-to-peer capability that allows you to set up a PAN of Bluetooth devices. For information about configuring and using Bluetooth devices, see the Bluetooth software Help. 4 Chapter 2 Connecting to a network 3 Enjoying entertainment features Use your HP tablet as an entertainment hub to socialize via the webcam, enjoy and manage your music, and download and watch movies. Or, to make your tablet an even more powerful entertainment center, connect external devices like a monitor, projector, or TV, or speakers and headphones. Using a webcam (select models only) The tablet has an integrated webcam that records video and captures photographs. Some models may allow you to video conference and chat online using streaming video. ▲ To start the webcam, from the Start screen, tap , type camera, and then select Camera from the list of applications. For details about using the webcam, go to Help and Support. ▲ From the Start screen, tap , type help, and then select Help and Support. ‒ or – From the Windows desktop, tap the question mark icon in the notification area, at the far right of the taskbar. Using audio On your tablet, or on select models using an external optical drive, you can play music CDs, download and listen to music, stream audio content from the web (including radio), record audio, or mix audio and video to create multimedia. To enhance your listening enjoyment, attach external audio devices such as speakers or headphones. Connecting speakers You can attach wired speakers to your tablet by connecting them to a USB port or to the audio-out (headphone) jack on your tablet or on a docking station. To connect wireless speakers to your tablet, follow the device manufacturer's instructions. To connect high-definition speakers to the tablet, see Setting up HDMI audio on page 7. Before connecting speakers, lower the volume setting. Connecting headphones WARNING! To reduce the risk of personal injury, lower the volume setting before putting on headphones, earbuds, or a headset. For additional safety information, see the Regulatory, Safety and Environmental Notices. To access this document, from the Start screen, tap , type support, and then select the HP Support Assistant app. You can connect wired headphones to the headphone jack or to the audio-out (headphone)/audio-in (microphone) combo jack on your tablet. Using a webcam (select models only) 5 To connect wireless headphones to your tablet, follow the device manufacturer's instructions. Connecting headsets WARNING! To prevent possible hearing damage, do not listen at high volume levels for long periods. Headphones combined with a microphone are called headsets. You can connect wired headsets\",\n",
       " 'to the audio-out (headphone)/audio-in (microphone) jack on your tablet. To connect wireless headsets to your tablet, follow the device manufacturer\\'s instructions. Using video Your tablet is a powerful video device that enables you to watch streaming video from your favorite websites and download video and movies to watch on your tablet when you are not connected to a network. To enhance your viewing enjoyment, use one of the video ports on the tablet to connect an external monitor, projector, or TV. IMPORTANT: Be sure that the external device is connected to the correct port on the tablet, using the correct cable. Follow the device manufacturer\\'s instructions. For information on using your video features, refer to Help and Support. Connecting video devices using an HDMI cable (select models only) NOTE: To connect an HDMI device to your tablet, you need an HDMI cable, purchased separately. To see the tablet screen image on a high-definition TV or monitor, connect the high-definition device according to the following instructions: 1. Connect one end of the HDMI cable to the HDMI port on the tablet. 2. Connect the other end of the cable to the high-definition TV or monitor. 3. Press f4 on an optional external keyboard (purchased separately) to alternate the tablet screen image between 4 display states: 6 Chapter 3 Enjoying entertainment features ● PC screen only: View the screen image on the tablet only. ● Duplicate: View the screen image simultaneously on both the tablet and the external device. ● Extend: View the screen image extended across the tablet and the external device. ● Second screen only: View the screen image on the external device only. Each time you press f4, the display state changes. NOTE: For best results, especially if you choose the \"Extend\" option, increase the screen resolution of the external device, as follows. From the Start screen, tap , type control panel, and then select Control Panel. Select Appearance and Personalization. Under Display, select Adjust screen resolution. Setting up HDMI audio HDMI is the only video interface that supports high-definition video and audio. After you connect an HDMI TV to the tablet, you can then turn on HDMI audio by following these steps: 1. From the Windows desktop, tap and hold the Speakers icon in the notification area, at the far right of the taskbar, and then select Playback devices. 2. On the Playback tab, select the name of the digital output device. 3. Tap Set Default, and then tap OK. To return the audio stream to the tablet speakers: 1. From the Windows desktop, tap and hold the Speakers icon in the notification area, at the far right of the taskbar, and then tap Playback devices. 2. On the Playback tab, tap Speakers. 3. Tap Set Default, and then tap OK. Connecting digital display devices using a DisplayPort cable (select models only) NOTE: To connect a digital display device to your tablet, you need a DisplayPort (DP-DP) cable, purchased separately. The DisplayPort connects a digital display device such',\n",
       " 'as a high-performance monitor or projector. The DisplayPort delivers higher performance than the VGA external monitor port and improves digital connectivity. 1. Connect one end of the DisplayPort cable to the DisplayPort on the tablet. Using video 7 2. Connect the other end of the cable to the digital display device. 3. Press f4 on an optional external keyboard (purchased separately) to alternate the tablet screen image between 4 display states: ● PC screen only: View the screen image on the tablet only. ● Duplicate: View the same screen image simultaneously on both the tablet and the external device. ● Extend: View the screen image extended across the tablet and the external device. ● Second screen only: View the screen image on the external device only. Each time you press f4, the display state changes. NOTE: For best results, especially if you choose the \"Extend\" option, increase the screen resolution of the external device, as follows. From the Start screen, , type control panel, and then select Control Panel. Select Appearance and Personalization. Under Display, select Adjust screen resolution. Connecting Miracast-compatible wireless displays (select models only) To discover and connect to Miracast-compatible wireless displays, follow the steps below. To open Miracast: ▲ Point to the upper-right or lower-right corner of the Start screen or the Windows desktop to display the charms, tap Devices, tap Project, and then follow the on-screen instructions. – or – On select tablet models, from the Start screen, tap the HP Quick Access to Miracast icon, and then follow the on-screen instructions. 8 Chapter 3 Enjoying entertainment features 4 Navigating the screen To quickly return to the Start screen, press the Windows button . You can navigate the tablet screen in the following ways: ● Touch gestures ● External keyboard and optional mouse (purchased separately) NOTE: An external USB mouse (purchased separately) can be connected to a USB port on the tablet. Using the touch gestures Tap Use the tap/double-tap gesture to select or open an item on the screen. ● Point to an item on the screen, and then tap one finger on the touch screen to select it. Doubletap an item to open it. Two-finger scroll Use the two-finger scroll gesture to move up, down, or sideways on a page or image. ● Place two fingers slightly apart on the touch screen and then drag them up, down, left, or right. Using the touch gestures 9 Two-finger pinch zoom Use the two-finger pinch zoom to zoom out or in on images or text. ● Zoom out by placing two fingers apart on the touch screen and then moving your fingers together. ● Zoom in by placing two fingers together on the touch screen and then moving your fingers apart. Two-finger click Use the two-finger click gesture to open the menu for an object on the screen. NOTE: The two-finger click performs the same function as right-clicking with a mouse. ● Place two fingers on the touch screen and press down to open the options',\n",
       " 'menu for the selected object. Right-edge swipe Use the right-edge swipe to reveal the charms, which let you search, share, start apps, access devices, or change settings. ● Gently swipe your finger inward from the right edge of the touch screen to reveal the charms. 10 Chapter 4 Navigating the screen Left-edge swipe Use the left-edge swipe to reveal your open apps so that you can access them quickly. ● Gently swipe your finger inward from the left edge of the touch screen to switch between apps. Without lifting your finger, swipe back toward the left edge to reveal all open apps. Top-edge swipe and bottom-edge swipe Use the top-edge swipe or bottom-edge swipe to display command options that allow you to customize an open app. IMPORTANT: When an app is open, the top-edge swipe varies depending on the app. ● Gently swipe your finger from the top edge or the bottom edge to reveal the app command options. One-finger slide Use the one-finger slide to pan or scroll through lists and pages, or to move an object. ● To scroll across the screen, lightly slide one finger across the screen in the direction you want to move. ● To drag, press and hold an object, and then drag the object to move it. Using the touch gestures 11 5 Managing power Your tablet can operate on either battery power or external power. When the tablet is running on battery power only and an AC power source is not available to charge the battery, it is important to monitor and conserve the battery charge. Initiating and exiting Sleep and Hibernation Windows has two power-saving states, Sleep and Hibernation. ● Sleep—The Sleep state is automatically initiated after a period of inactivity. Your work is saved to memory, allowing you to resume your work very quickly. You can also initiate Sleep manually. For more information, see Manually initiating and exiting Sleep on page 13. ● Hibernation—The Hibernation state is automatically initiated if the battery reaches a critical level. In the Hibernation state, your work is saved to a hibernation file and the tablet powers down. You can also initiate Hibernation manually. For more information, see Manually initiating and exiting Hibernation (select models only) on page 13. CAUTION: To reduce the risk of possible audio and video degradation, loss of audio or video playback functionality, or loss of information, do not initiate the Sleep state while reading from or writing to an external media card. NOTE: You cannot initiate any type of networking connection or perform any tablet functions while the tablet is in the Sleep state or in the Hibernation state. 12 Chapter 5 Managing power Manually initiating and exiting Sleep You can initiate Sleep in any of the following ways: ● Close the display. ● Swipe from the right edge of the Start screen or the Windows desktop to reveal the charms. Tap Settings, select the Power icon, and then select Sleep. You can exit Sleep in any of the following',\n",
       " 'ways: ● Briefly press the power button. ● Tap or swipe the touch screen. When the tablet exits Sleep, the power lights turn on and your work returns to the screen. NOTE: If you have set a password to be required on exiting Sleep, you must enter your Windows password before your work returns to the screen. Manually initiating and exiting Hibernation (select models only) You can enable user-initiated Hibernation and change other power settings and timeouts using Power Options. 1. From the Start screen, tap , type power options, and then select Power options. 2. In the left pane, tap Choose what the power button does. 3. Tap Change Settings that are currently unavailable. 4. In the When I press the power button area, select Hibernate. 5. Tap Save changes. To exit Hibernation: ▲ Briefly press the power button. When the tablet exits Hibernation, the power lights turn on and your work returns to the screen. NOTE: If you have set a password to be required on exiting Hibernation, you must enter your Windows password before your work returns to the screen. Setting password protection on wakeup (exiting Sleep or Hibernation) To set the tablet to prompt for a password when the tablet exits Sleep or Hibernation, follow these steps: 1. From the Start screen, tap , type power options, and then select Power options. ‒ or – 2. In the left pane, tap Require a password on wakeup. 3. Tap Change Settings that are currently unavailable. Initiating and exiting Sleep and Hibernation 13 4. Tap Require a password (recommended). NOTE: If you need to create a user account password or change your current user account password, tap Create or change your user account password, and then follow the on-screen instructions. If you do not need to create or change a user account password, go to step 5. 5. Tap Save changes. Running on battery power When a charged battery is in the tablet and the tablet is not plugged into external power, the tablet runs on battery power. When the tablet is off and unplugged from external power, the battery in the tablet slowly discharges. The tablet will display a message when the battery reaches a low or critical battery level. Computer battery life varies, depending on power management settings, programs running on the tablet, screen brightness, external devices connected to the tablet, and other factors. Factory-sealed battery To monitor the status of the battery, or if the battery is no longer holding a charge, run Battery Check in the HP Support Assistant app. 1. From the Start screen, tap , type support, and then select the HP Support Assistant app. ‒ or – From the Windows desktop, tap the question mark icon in the notification area, at the far right of the taskbar. 2. Select Battery and performance. If Battery Check indicates that your battery should be replaced, contact support. The battery[ies] in this product cannot be easily replaced by user themselves. Removing or replacing the battery',\n",
       " 'could affect your warranty coverage. If a battery is no longer holding a charge, contact support. When a battery has reached the end of its useful life, do not dispose of the battery in general household waste. Follow the local laws and regulations in your area for battery disposal. Finding battery information To access battery information: 1. From the Start screen, tap , type support, and then select the HP Support Assistant app. ‒ or – From the Windows desktop, tap the question mark icon in the notification area, at the far right of the taskbar. 2. Select Battery and Performance. Conserving battery power To conserve battery power and maximize battery life: 14 Chapter 5 Managing power ● Lower the brightness of the display. ● Select the Power saver setting in Power Options. ● Turn off wireless devices when you are not using them. ● Disconnect unused external devices that are not plugged into an external power source, such as an external hard drive connected to a USB port. ● Stop, disable, or remove any external media cards that you are not using. ● Before you leave your work, initiate Sleep or shut down the tablet. Running on AC power For information about connecting to AC power, refer to the Quick Start guide provided in the tablet box. The tablet does not use battery power when the tablet is connected to AC power with an approved AC adapter or an optional docking/expansion device. WARNING! To reduce potential safety issues, use only the AC adapter provided with the tablet, a replacement AC adapter provided by HP, or a compatible AC adapter purchased from HP. Connect the tablet to AC power under any of the following conditions: WARNING! Do not charge the tablet battery while you are aboard aircraft. ● When charging or calibrating a battery ● When installing or modifying system software ● When performing a backup or recovery When you connect the tablet to AC power: ● The battery begins to charge. ● The screen brightness increases. ● The power meter icon on the Windows desktop changes appearance. When you disconnect AC power: ● The tablet switches to battery power. ● The screen brightness automatically decreases to save battery life. ● The power meter icon on the Windows desktop changes appearance. Troubleshooting power problems Test the AC adapter if the tablet exhibits any of the following symptoms when it is connected to AC power: ● The tablet does not turn on. ● The power lights do not turn on (select models only). To test the AC adapter: Running on AC power 15 1. Shut down the tablet. 2. Connect the AC adapter to the tablet, and then plug it into an AC outlet. 3. Turn on the tablet. ● If the tablet or the power lights turn on, the AC adapter is working properly. ● If the tablet or the power lights remain off, check the connection from the AC adapter to the tablet and the connection from the AC',\n",
       " 'adapter to the AC outlet to be sure that the connections are secure. ● If the connections are secure and the tablet or the power lights remain off, the AC adapter is not functioning and should be replaced. Contact support for information about obtaining a replacement AC power adapter. Shutting down (turning off) the tablet CAUTION: Unsaved information is lost when the tablet shuts down. Be sure to save your work before shutting down the tablet. The Shut down command closes all open programs, including the operating system, and then turns off the display and tablet. Shut down the tablet under any of the following conditions: ● When you need to access components inside the tablet (select models only) ● When the tablet will be unused and disconnected from external power for an extended period Although you can turn off the tablet with the power button, the recommended procedure is to use the Windows Shut down command. NOTE: If the tablet is in the Sleep state or in Hibernation, first exit Sleep or Hibernation by briefly pressing the power button. 1. Save your work and close all open programs. 2. Swipe from the right edge of the Start screen or the Windows desktop to reveal the charms. 3. Tap Settings, select the Power icon, and then select Shut down. If the tablet is unresponsive and you are unable to use the preceding shutdown procedures, try the following emergency procedures in the sequence provided: ● Press and hold the power button for at least 5 seconds. ● Disconnect the tablet from external power. ● On models with a user-replaceable battery, remove the battery. 16 Chapter 5 Managing power 6 Maintaining your tablet It is important to perform regular maintenance to keep your tablet in optimal condition. This chapter explains how to use tools such as Disk Cleanup. It also provides instructions for updating programs and drivers, steps to clean the computer, and tips for traveling with (or shipping) the computer. Improving performance You can improve the performance of your computer by performing regular maintenance tasks with tools such as Disk Cleanup. Using Disk Cleanup Use Disk Cleanup to search the hard drive for unnecessary files that you can safely delete to free up disk space and help the tablet run more efficiently. To run Disk Cleanup: 1. From the Start screen, tap , type disk, and then select one of the following options to free up space on your tablet. ● Apps—Uninstall apps. ● Media and files—Delete media and/or files. ● Recycle Bin—Empty the Recycle Bin. 2. Follow the on-screen instructions. Updating programs and drivers HP recommends that you update your programs and drivers on a regular basis. Updates can resolve issues and bring new features and options to your tablet. For example, older graphics components might not work well with the most recent gaming software. Without the latest driver, you would not be getting the most out of your equipment. Go to http://www.hp.com/support to download the latest versions of HP',\n",
       " 'programs and drivers. In addition, register to receive automatic notifications when updates become available. If you would like to update your programs and drivers, follow these instructions: 1. From the Start screen, tap , type support, and then select the HP Support Assistant app. -orFrom the Windows desktop, tap the question mark icon in the notification area, at the far right of the taskbar. 2. Tap Updates and tune-ups, and then tap Check for HP updates now. 3. Follow the on-screen instructions. Improving performance 17 Cleaning your tablet Use the following products to safely clean your tablet: ● Dimethyl benzyl ammonium chloride 0.3 percent maximum concentration (for example, disposable wipes, which come in a variety of brands) ● Alcohol-free glass-cleaning fluid ● Solution of water and mild soap ● Dry microfiber cleaning cloth or a chamois (static-free cloth without oil) ● Static-free cloth wipes CAUTION: Avoid strong cleaning solvents that can permanently damage your tablet. If you are not sure that a cleaning product is safe for your tablet, check the product contents to make sure that ingredients such as alcohol, acetone, ammonium chloride, methylene chloride, and hydrocarbons are not included in the product. Fibrous materials, such as paper towels, can scratch the tablet. Over time, dirt particles and cleaning agents can get trapped in the scratches. Cleaning procedures Follow the procedures in this section to safely clean your tablet. WARNING! To prevent electric shock or damage to components, do not attempt to clean your tablet while it is on. 1. Turn off the tablet. 2. Disconnect AC power. 3. Disconnect all powered external devices. CAUTION: To prevent damage to internal components, do not spray cleaning agents or liquids directly on any tablet surface. Liquids dripped on the surface can permanently damage internal components. Cleaning the display Gently wipe the display using a soft, lint-free cloth moistened with an alcohol-free glass cleaner. Be sure that a display is dry before you close the tablet. Cleaning the sides or cover To clean the sides or cover, use a soft microfiber cloth or chamois moistened with one of the cleaning solutions listed previously, or use an acceptable disposable wipe. NOTE: When cleaning the cover of the tablet, use a circular motion to aid in removing dirt and debris. 18 Chapter 6 Maintaining your tablet Traveling with or shipping your tablet If you have to travel with or ship your tablet, follow these tips to keep your equipment safe. ● Prepare the tablet for traveling or shipping: ◦ Back up your information to an external drive. ◦ Remove all external media cards, such as memory cards. ◦ Turn off and then disconnect all external devices. ◦ Shut down the tablet. ● Take along a backup of your information. Keep the backup separate from the tablet. ● When traveling by air, carry the tablet as hand luggage; do not check it in with the rest of your luggage. CAUTION: Avoid exposing a drive to magnetic fields. Security devices with magnetic fields include airport walk-through',\n",
       " 'devices and security wands. Airport conveyer belts and similar security devices that check carry-on baggage use X-rays instead of magnetism and do not damage drives. ● If you plan to use the tablet during a flight, listen for the in-flight announcement that tells you when you are allowed to use your tablet. In-flight tablet use is at the discretion of the airline. ● If you are shipping the tablet, use suitable protective packaging and label the package “FRAGILE.” ● The use of wireless devices may be restricted in some environments. Such restrictions may apply aboard aircraft, in hospitals, near explosives, and in hazardous locations. If you are uncertain of the policy that applies to the use of a wireless device in your tablet, ask for authorization to use your tablet before you turn it on. ● If you are traveling internationally, follow these suggestions: ◦ Check the tablet-related customs regulations for each country or region on your itinerary. ◦ Check the power cord and adapter requirements for each location in which you plan to use the tablet. Voltage, frequency, and plug configurations vary. WARNING! To reduce the risk of electric shock, fire, or damage to the equipment, do not attempt to power the tablet with a voltage converter kit sold for appliances. Traveling with or shipping your tablet 19 7 Securing your tablet and information Computer security is essential for protecting the confidentiality, integrity, and availability of your information. Standard security solutions provided by the Windows operating system, HP applications, the non-Windows Setup Utility (BIOS), and other third-party software can help protect your tablet from a variety of risks, such as viruses, worms, and other types of malicious code. IMPORTANT: Some security features listed in this chapter may not be available on your tablet. Using passwords A password is a group of characters that you choose to secure your tablet information and to protect online transactions. Several types of passwords can be set. For example, when you set up your tablet for the first time, you were asked to create a user password to secure your tablet. Additional passwords can be set in Windows or in the HP Setup Utility (BIOS) that is preinstalled on your tablet. You may find it helpful to use the same password for a Setup Utility (BIOS) feature and for a Windows security feature. To create and save passwords, use the following tips: ● To reduce the risk of being locked out of the tablet, record each password and store it in a secure place away from the tablet. Do not store passwords in a file on the tablet. ● When creating passwords, follow requirements set by the program. ● Change your passwords at least every 3 months. ● An ideal password is long and has letters, punctuation, symbols, and numbers. ● Before you send your tablet for service, back up your files, delete confidential files, and then remove all password settings. For additional information about Windows passwords, such as screen-saver passwords: ▲ From the',\n",
       " 'Start screen, tap , type support, and then select the HP Support Assistant app. -orFrom the Windows desktop, tap the question mark icon in the notification area, at the far right of the taskbar. Setting Windows passwords Password Function User password Protects access to a Windows user account. Administrator password Protects administrator-level access to tablet contents. NOTE: This password cannot be used to access Setup Utility (BIOS) contents. 20 Chapter 7 Securing your tablet and information Setting Setup Utility (BIOS) passwords Password Function Administrator password ● Must be entered each time you access Setup Utility (BIOS). ● If you forget your administrator password, you cannot access Setup Utility (BIOS). Power-on password ● Must be entered each time you turn on or restart the tablet. ● If you forget your power-on password, you cannot turn on or restart the tablet. To set, change, or delete an administrator or power-on password in Setup Utility (BIOS): NOTE: If you have tablet with a detachable keyboard or keyboard dock, attach it before beginning these steps. 1. Turn off the tablet. 2. Hold the Volume down button. 3. While continuing to hold the Volume down button, press the power button to turn on the tablet. The Startup menu is displayed. 4. Select Security, and then follow the on-screen instructions. Your changes take effect when the tablet restarts. Using Internet security software When you use your tablet to access email, a network, or the Internet, you potentially expose your tablet to tablet viruses, spyware, and other online threats. To help protect your tablet, Internet security software that includes antivirus and firewall features may be preinstalled on your tablet as a trial offer. To provide ongoing protection against newly discovered viruses and other security risks, security software must be kept up to date. It is strongly recommended that you upgrade the security software trial offer or purchase the software of your choice in order to fully protect your tablet. Using antivirus software Computer viruses can disable programs, utilities, or the operating system, or cause them to function abnormally. Antivirus software can detect most viruses, destroy them, and in most cases, repair any damage they have caused. To provide ongoing protection against newly discovered viruses, antivirus software must be kept up to date. An antivirus program may be preinstalled on your tablet. It is strongly recommended that you use the antivirus program of your choice in order to fully protect your tablet. For more information about tablet viruses, from the Start screen, tap , type support, and then select the HP Support Assistant app, or from the Windows desktop, tap the question mark icon in the notification area, at the far right of the taskbar. Using Internet security software 21 Using firewall software Firewalls are designed to prevent unauthorized access to a system or network. A firewall can be software you install on your tablet and/or network, or it can be a combination of both hardware and software. There are two types of firewalls to consider: ● Host-based',\n",
       " 'firewalls—Software that protects only the tablet it is installed on. ● Network-based firewalls—Installed between your DSL or cable modem and your home network to protect all the computers on the network. When a firewall is installed on a system, all data sent to and from the system is monitored and compared with a set of user-defined security criteria. Any data that does not meet those criteria is blocked. Installing software updates HP, Windows, and third-party software installed on your tablet should be regularly updated to correct security problems and improve software performance. For more information, see Updating programs and drivers on page 17. Installing critical security updates CAUTION: Microsoft sends out alerts regarding critical updates. To protect the tablet from security breaches and computer viruses, install all critical updates from Microsoft as soon as you receive an alert. You can install these updates manually or automatically. To view or change the settings: 1. From the Start screen, tap , type control panel. 2. Select System and Security, select Windows Update, select Change settings, and then follow the on-screen instructions. Securing your wireless network When you set up a WLAN or access an existing WLAN, always enable security features to protect your network from unauthorized access. WLANs in public areas (hotspots) like coffee shops and airports may not provide any security. Backing up your software applications and information Regularly back up your software applications and information to protect them from being permanently lost or damaged through a virus attack or a software or hardware failure. For more information, see Backup and recovery on page 25. 22 Chapter 7 Securing your tablet and information 8 Using HP PC Hardware Diagnostics (UEFI) HP PC Hardware Diagnostics is a Unified Extensible Firmware Interface (UEFI) that allows you to run diagnostic tests to determine whether the tablet hardware is functioning properly. The tool runs outside the operating system so that it can isolate hardware failures from issues that are caused by the operating system or other software components. To start HP PC Hardware Diagnostics (UEFI): 1. Turn off the tablet. 2. Press and hold the Volume down button. 3. While continuing to hold the Volume down button, press the power button to turn on the tablet. The Startup menu is displayed. 4. Press f2 at the bottom of the screen. 5. When the diagnostic tool opens, select the type of diagnostic test you want to run, and then follow the on-screen instructions. NOTE: If you need to stop a diagnostic test, press esc. 23 Downloading HP PC Hardware Diagnostics (UEFI) to a USB device NOTE: Instructions for downloading HP PC Hardware Diagnostics (UEFI) are provided in English only. There are two options to download HP PC Hardware Diagnostics to a USB device: Option 1: HP PC Diagnostics homepage— Provides access to the latest UEFI version 1. Go to http://hp.com/go/techcenter/pcdiags. 2. Tap the UEFI Download link, and then select Run. Option 2: Support and Drivers pages—Provide downloads for a specific product for earlier and later versions',\n",
       " '1. Go to http://www.hp.com. 2. Tap Support, located at the top of the page, and then tap Download Drivers. 3. In the text box, enter the product name, and then tap Go. – or – Tap Find Now to let HP automatically detect your product. 4. In the Diagnostic section, tap HP UEFI Support Environment. – or – Tap Download, and then select Run. 24 Chapter 8 Using HP PC Hardware Diagnostics (UEFI) 9 Backup and recovery To protect your information, use Windows backup and restore utilities to back up individual files and folders, back up your entire hard drive, or create system restore points. In case of system failure, you can use the backup files to restore the contents of your tablet. 1. Swipe from the right edge of the touch screen to display the charms, tap Search, and then tap the search box. 2. In the search box, type restore, and then select from the list of displayed options. NOTE: For detailed instructions on various backup and restore options, perform a search for these topics in Windows Help and Support. In case of system instability, HP recommends that you print the recovery procedures and save them for later use. NOTE: Windows includes the User Account Control feature to improve the security of your tablet. You may be prompted for your permission or password for tasks such as installing software, running utilities, or changing Windows settings. For more information, see Windows Help and Support. Backing up your information Recovery after a system failure is as good as your most recent backup. You should create system repair media and your initial backup immediately after initial system setup. As you add new software and data files, you should continue to back up your system on a regular basis to maintain a reasonably current backup. For more information on the Windows backup features, see Windows Help and Support. Performing a system recovery NOTE: If you will be using F11 startup recovery or USB recovery media to recover your system, the tablet battery must have at least 70% battery power remaining before starting the recovery process. In case of system failure or instability, the tablet provides the following tools to recover your files: ● Windows recovery tools: You can use Windows Backup and Restore to recover information you have previously backed up. You can also use Windows Automatic Repair to fix problems that might prevent Windows from starting correctly. NOTE: If you are unable to boot (start up) your tablet, contact support. Changing the boot device order To change the boot order so that you can boot from an external device: NOTE: An external flash drive is required to perform this procedure. 1. If possible, back up all personal files. 2. Shut down the tablet. 3. Connect the external flash drive. Backing up your information 25 4. Press and hold the Volume down button. 5. While continuing to hold the Volume down button, press the power button to turn on the tablet. The',\n",
       " 'Startup menu is displayed. 6. Tap F9 Boot Options. 7. Select the external flash drive as the boot device. 8. Restart the tablet. Using Windows Refresh or Windows Reset When your tablet is not working properly and you need to regain system stability, the Windows Refresh option allows you to start fresh and keep what is important to you. The Windows Reset option allows you to perform detailed reformatting of your tablet, or remove personal information before you give away or recycle your tablet. For more information on these features, see Windows Help and Support. 26 Chapter 9 Backup and recovery 10 Specifications Input power The power information in this section may be helpful if you plan to travel internationally with the tablet. The tablet operates on DC power, which can be supplied by an AC or a DC power source. The AC power source must be rated at 100–240 V, 50–60 Hz. Although the tablet can be powered from a standalone DC power source, it should be powered only with an AC adapter or a DC power source that is supplied and approved by HP for use with this tablet. The tablet can operate on DC power within the following specifications. Operating voltage and current varies by platform. Input power Rating Operating voltage and current 5 V dc @ 3A - 15W NOTE: This product is designed for IT power systems in Norway with phase-to-phase voltage not exceeding 240 V rms. NOTE: The tablet operating voltage and current can be found on the system regulatory label. Operating environment Factor Metric U.S. Temperature Operating 5°C to 35°C 41°F to 95°F Nonoperating -20°C to 60°C -4°F to 140°F Relative humidity (noncondensing) Operating 10% to 90% 10% to 90% Nonoperating 5% to 95% 5% to 95% Maximum altitude (unpressurized) Operating -15 m to 3,048 m -50 ft to 10,000 ft Nonoperating -15 m to 12,192 m -50 ft to 40,000 ft Input power 27 11 Electrostatic Discharge Electrostatic discharge is the release of static electricity when two objects come into contact—for example, the shock you receive when you walk across the carpet and touch a metal door knob. A discharge of static electricity from fingers or other electrostatic conductors may damage electronic components. To prevent damage to the tablet, damage to a drive, or loss of information, observe these precautions: ● If removal or installation instructions direct you to unplug the tablet, first be sure that it is properly grounded. ● Keep components in their electrostatic-safe containers until you are ready to install them. ● Avoid touching pins, leads, and circuitry. Handle electronic components as little as possible. ● Use nonmagnetic tools. ● Before handling components, discharge static electricity by touching an unpainted metal surface. ● If you remove a component, place it in an electrostatic-safe container. 28 Chapter 11 Electrostatic Discharge Index A AC adapter, testing 15 antivirus software, using 21 B backing up software and information 22 battery conserving power 14 discharging 14 factory-sealed 14 finding information 14 battery information,',\n",
       " 'finding 14 battery power 14 Bluetooth device 3, 4 C caring for your tablet 18 cleaning your tablet 18 connecting to a WLAN 4 corporate WLAN connection 4 critical security updates, installing 22 D Disk Cleanup software 17 DisplayPort connecting 7 E electrostatic discharge 28 external AC power, using 15 F firewall software 22 G gestures using 9 H HDMI port connecting 6 HDMI, configuring audio 7 headphones, connecting 5 headsets, connecting 6 Hibernation exiting 13 initiating 13 high-definition devices, connecting 6, 7, 8 HP PC Hardware Diagnostics (UEFI) downloading 24 HP resources 1 I initiating Sleep and Hibernation 12 input power 27 installing critical security updates 22 Internet security software, using 21 L left-edge swipe touch screen gesture 11 M maintenance Disk Cleanup 17 updating programs and drivers 17 Miracast 8 O one-finger slide touch screen gesture 11 operating environment 27 P passwords Setup Utility (BIOS) 21 Windows 20 ports HDMI 6, 7 Miracast 8 power AC 15 battery 14 public WLAN connection 4 R recovery 26 refresh 26 right-edge swipe touch screen gesture 10 S setting password protection on wakeup 13 Setup Utility (BIOS) passwords 21 shipping the tablet 19 shutdown 16 Sleep exiting 13 initiating 13 Sleep and Hibernation initiating 12 software Disk Cleanup 17 software updates, installing 22 speakers connecting 5 Starting right 1 T tap touch screen gesture 9 testing an AC adapter 15 top-edge swipe and bottom-edge swipe touch screen gesture 11 touch screen gesture, one-finger slide 11 touch screen gestures left-edge swipe 11 right-edge swipe 10 tap 9 top-edge swipe and bottomedge swipe 11 two-finger click 10 Index 29 two-finger pinch/zoom 10 two-finger scroll 9 traveling with the tablet 19 turning off the tablet 16 two-finger click touch screen gesture 10 two-finger pinch/zoom touch screen gesture 10 two-finger scroll touch screen gesture 9 U unresponsive system 16 updating programs and drivers 17 using external AC power 15 using passwords 20 V video 6 W webcam using 5 Windows Refresh 26 Windows passwords 20 Wireless Assistant software 3 wireless controls button 3 operating system 3 Wireless Assistant software 3 wireless light 3 wireless network (WLAN) connecting 4 corporate WLAN connection 4 public WLAN connection 4 wireless network, securing 22 30 Index']"
      ]
     },
     "execution_count": 26,
     "metadata": {},
     "output_type": "execute_result"
    }
   ],
   "source": [
    "data"
   ]
  },
  {
   "cell_type": "markdown",
   "id": "4cb06cff",
   "metadata": {},
   "source": [
    "# Embedding"
   ]
  },
  {
   "cell_type": "code",
   "execution_count": 27,
   "id": "00ed2dd4",
   "metadata": {},
   "outputs": [],
   "source": [
    "# Load embedding model\n",
    "embedder = SentenceTransformer('all-MiniLM-L6-v2')  # Lightweight & fast"
   ]
  },
  {
   "cell_type": "code",
   "execution_count": 28,
   "id": "bf9fac86",
   "metadata": {},
   "outputs": [],
   "source": [
    "embeddings = embedder.encode(data, convert_to_numpy=True)"
   ]
  },
  {
   "cell_type": "code",
   "execution_count": 29,
   "id": "a6067ebc",
   "metadata": {},
   "outputs": [
    {
     "data": {
      "text/plain": [
       "array([[-0.10406009, -0.03900221,  0.04855574, ...,  0.01949895,\n",
       "         0.0844449 ,  0.02467618],\n",
       "       [-0.02790189, -0.05774884, -0.11732259, ...,  0.02115861,\n",
       "         0.04342958, -0.00750632],\n",
       "       [-0.04818346, -0.03612443,  0.06029768, ...,  0.02051263,\n",
       "         0.01128818,  0.00598023],\n",
       "       ...,\n",
       "       [-0.0897944 , -0.02082036,  0.04850111, ...,  0.04992981,\n",
       "         0.0075749 , -0.05266475],\n",
       "       [-0.05413851, -0.00484724, -0.00911877, ...,  0.08714322,\n",
       "        -0.03672336, -0.06100498],\n",
       "       [-0.05573836,  0.00018321,  0.05250529, ..., -0.02503051,\n",
       "        -0.05501289,  0.00355061]], shape=(18, 384), dtype=float32)"
      ]
     },
     "execution_count": 29,
     "metadata": {},
     "output_type": "execute_result"
    }
   ],
   "source": [
    "embeddings"
   ]
  },
  {
   "cell_type": "markdown",
   "id": "3846d834",
   "metadata": {},
   "source": [
    "# Create index"
   ]
  },
  {
   "cell_type": "code",
   "execution_count": 30,
   "id": "948f5e1d",
   "metadata": {},
   "outputs": [],
   "source": [
    "import numpy as np\n",
    "\n",
    "def normalize_embeddings(embeddings):\n",
    "    norms = np.linalg.norm(embeddings, axis=1, keepdims=True)\n",
    "    return embeddings / norms\n"
   ]
  },
  {
   "cell_type": "code",
   "execution_count": 31,
   "id": "b6166bd8",
   "metadata": {},
   "outputs": [],
   "source": [
    "dimension = embeddings.shape[1]"
   ]
  },
  {
   "cell_type": "code",
   "execution_count": 32,
   "id": "403d4ea6",
   "metadata": {},
   "outputs": [],
   "source": [
    "index = faiss.IndexFlatIP(dimension)"
   ]
  },
  {
   "cell_type": "code",
   "execution_count": 33,
   "id": "68a7abcd",
   "metadata": {},
   "outputs": [],
   "source": [
    "normalized_embeddings = normalize_embeddings(embeddings)"
   ]
  },
  {
   "cell_type": "code",
   "execution_count": 34,
   "id": "bfa4d381",
   "metadata": {},
   "outputs": [],
   "source": [
    "index.add(normalized_embeddings)"
   ]
  },
  {
   "cell_type": "markdown",
   "id": "325a145a",
   "metadata": {},
   "source": [
    "# Query, Semantic Search and Generation"
   ]
  },
  {
   "cell_type": "code",
   "execution_count": 35,
   "id": "5df67937",
   "metadata": {},
   "outputs": [],
   "source": [
    "query = \"How do I connect to a bluetooth network?\""
   ]
  },
  {
   "cell_type": "code",
   "execution_count": 36,
   "id": "fa040a47",
   "metadata": {},
   "outputs": [],
   "source": [
    "query_embedding = embedder.encode([query], convert_to_numpy=True)\n",
    "normalized_query = normalize_embeddings(query_embedding)\n"
   ]
  },
  {
   "cell_type": "code",
   "execution_count": 37,
   "id": "d95521e8",
   "metadata": {},
   "outputs": [],
   "source": [
    "k = 1  # number of nearest neighbors\n",
    "D, I = index.search(normalized_query, k)"
   ]
  },
  {
   "cell_type": "code",
   "execution_count": 38,
   "id": "e879f72b",
   "metadata": {},
   "outputs": [
    {
     "data": {
      "text/plain": [
       "'be equipped with one or more of the following wireless devices: ● WLAN device—Connects the tablet to wireless local area networks (commonly referred to as WiFi networks, wireless LANs, or WLANs) in corporate offices, your home, and public places such as airports, restaurants, coffee shops, hotels, and universities. In a WLAN, the mobile wireless device in your tablet communicates with a wireless router or a wireless access point. ● Bluetooth device—Creates a personal area network (PAN) to connect to other Bluetoothenabled devices such as tablets, phones, printers, headsets, speakers, and cameras. In a PAN, each device communicates directly with other devices, and devices must be relatively close together—typically within 10 meters (approximately 33 feet) of each other. For more information about wireless technology, the Internet, and networking, see the information and website links provided in Help and Support. ▲ From the Start screen, tap , type help, and then select Help and Support. ‒ or – From the Windows desktop, tap the question mark icon in the notification area, at the far right of the taskbar. Using the wireless controls You can control the wireless devices in your tablet using the operating system controls. The Network and Sharing Center allows you to set up a connection or network, connect to a network, and diagnose and repair network problems. To use operating system controls: 1. From the Start screen, tap , type control panel, and then select Control Panel. 2. Select Network and Internet, and then select Network and Sharing Center. For more information, see the information provided in Help and Support. ▲ From the Start screen, tap , type help, and then select Help and Support. ‒ or – From the Windows desktop, tap the question mark icon in the notification area, at the far right of the taskbar. Connecting to a wireless network 3 Connecting to a WLAN To connect to a WLAN, follow these steps: 1. Be sure that the WLAN device is on. 2. Swipe from the right edge of the Start screen or the Windows desktop, to reveal the charms. 3. Select Settings, and then tap the network status icon. 4. Select your WLAN from the list. 5. Tap Connect. If the WLAN is a security-enabled WLAN, you are prompted to enter a security code. Type the code, and then tap Next to complete the connection. NOTE: If no WLANs are listed, you may be out of range of a wireless router or access point. NOTE: If you do not see the WLAN you want to connect to, from the Windows desktop, tap and hold the network status icon, and then select Open Network and Sharing Center. Tap Set up a new connection or network. A list of options is displayed, allowing you to manually search for and connect to a network or to create a new network connection. 6. Follow the on-screen instructions to complete the connection. After the connection is made, tap the network status icon in the notification area, at the far right'"
      ]
     },
     "execution_count": 38,
     "metadata": {},
     "output_type": "execute_result"
    }
   ],
   "source": [
    "data[I[0][0]]"
   ]
  },
  {
   "cell_type": "code",
   "execution_count": 39,
   "id": "1b196b05",
   "metadata": {},
   "outputs": [
    {
     "name": "stdout",
     "output_type": "stream",
     "text": [
      "<think>\n",
      "Okay, the user is asking how to connect to a Bluetooth network. Let me look through the provided context to find the relevant information.\n",
      "\n",
      "The context mentions Bluetooth devices creating a personal area network (PAN) to connect to other Bluetooth-enabled devices. It also talks about the Network and Sharing Center for setting up connections. However, the specific steps for Bluetooth might be in the \"Connecting to a wireless network\" section, but that's under WLAN. Wait, the context has a part about Bluetooth devices, but the steps given are for WLAN. Hmm.\n",
      "\n",
      "Wait, the context says: \"To use operating system controls: 1. From the Start screen, tap , type control panel, and then select Control Panel. 2. Select Network and Internet, and then select Network and Sharing Center.\" But the steps for connecting to a WLAN are detailed. However, the Bluetooth connection steps aren't explicitly listed here. The context does mention that Bluetooth creates a PAN, but the steps for connecting via Bluetooth might be similar to the WLAN steps but with Bluetooth instead. But the user is asking specifically about Bluetooth, so maybe the answer is in the Bluetooth section. However, the context doesn't provide specific steps for Bluetooth. It just explains what a Bluetooth device does. \n",
      "\n",
      "Wait, the context says: \"In a PAN, each device communicates directly with other devices, and devices must be relatively close together—typically within 10 meters (approximately 33 feet) of each other.\" But the actual steps for connecting via Bluetooth aren't given here. The user might need to use the Network and Sharing Center, but the context doesn't specify Bluetooth steps. However, the context does mention that from the Start screen, you can type help, and there are steps for connecting to a WLAN. Since Bluetooth is a different wireless technology, maybe the answer is that you need to use the Bluetooth settings in the Network and Sharing Center, but the context doesn't give explicit steps. Wait, the context says \"the Network and Sharing Center allows you to set up a connection or network, connect to a network, and diagnose and repair network problems.\" So maybe the steps for Bluetooth are similar to WLAN, but the context doesn't specify Bluetooth steps. Alternatively, the user might need to pair devices via Bluetooth, but the context doesn't mention that. \n",
      "\n",
      "Wait, the context is about connecting to a WLAN. The Bluetooth part is more about what a Bluetooth device does, not the steps to connect. Therefore, the answer might be that the user needs to use the Bluetooth settings in the Network and Sharing Center, but the context doesn't provide specific steps. However, the user is asking how to connect to a Bluetooth network, which is a PAN. The context says that in a PAN, devices communicate directly. But the actual steps for connecting via Bluetooth might be to pair devices, but the context doesn't explain that. The context is more about WLAN. So maybe the answer is that the user should check the Network and Sharing Center to set up a Bluetooth connection, but the context doesn't give explicit steps. However, the user might need to follow the same steps as connecting to a WLAN but using Bluetooth. But the context doesn't mention Bluetooth steps. Therefore, the answer is that the user should use the Network and Sharing Center to set up a Bluetooth connection, but the context doesn't provide specific steps. Wait, the context says \"For more information about wireless technology, the Internet, and networking, see the information and website links provided in Help and Support.\" So maybe the answer is to use the Help and Support links. But the user is asking for a step-by-step based on the context. Since the context doesn't have explicit steps for Bluetooth, maybe the answer is that the user should use the Network and Sharing Center to connect to a Bluetooth network, but the steps aren't listed here. Alternatively, the answer is that the user needs to pair devices via Bluetooth, but the context doesn't explain that. \n",
      "\n",
      "Wait, the context says that Bluetooth creates a PAN, so the user would need to pair devices. However, the context doesn't mention how to do that. Therefore, the answer is that the user should use the Network and Sharing Center, but the steps aren't provided. However, the user might need to go to the Network and Sharing Center and select Bluetooth options. But the context doesn't have that. Therefore, the answer is that the user should use the Network and Sharing Center to set up a connection, but the context doesn't provide specific steps for Bluetooth. So the answer is that the user should check the Network and Sharing Center, but the context doesn't have explicit steps for Bluetooth. Therefore, the answer is that the user should follow the steps similar to connecting to a WLAN but using Bluetooth, but the context doesn't specify that. Hmm, this is confusing. The context doesn't have specific steps for Bluetooth, so the answer is that the user needs to use the Network and Sharing Center, but the steps aren't given. But the user is asking based on the context. So the answer is that the user should use the Network and Sharing Center to set up a Bluetooth connection, but the context doesn't provide the exact steps. Therefore, the answer is that the user should use the Network and Sharing Center to connect to a Bluetooth network, but the steps are not detailed in the context.\n",
      "</think>\n",
      "\n",
      "To connect to a Bluetooth network (personal area network, or PAN), follow these steps based on the context provided:\n",
      "\n",
      "1. **Ensure Bluetooth is enabled**: Verify that your device's Bluetooth is turned on. This is typically done through the device's settings or a dedicated Bluetooth icon in the notification area.\n",
      "\n",
      "2. **Access Network and Sharing Center**: \n",
      "   - From the Start screen, type \"Control Panel\" and select it.\n",
      "   - Navigate to **Network and Internet > Network and Sharing Center**.\n",
      "\n",
      "3. **Set up a Bluetooth connection**:\n",
      "   - In the Network and Sharing Center, look for options related to Bluetooth devices or PANs. The context mentions that the center allows setting up connections, so you may need to manually search for or pair devices.\n",
      "   - If no Bluetooth options are visible, check the Help and Support links provided in the context for further guidance.\n",
      "\n",
      "4. **Pair devices**: \n",
      "   - Bluetooth devices (e.g., printers, speakers) must be within 10 meters of each other. Enable Bluetooth on both devices and follow the on-screen pairing prompts to establish a connection.\n",
      "\n",
      "5. **Confirm the connection**: Once paired, devices will communicate directly within the PAN. For troubleshooting, use the Network and Sharing Center to diagnose issues.\n",
      "\n",
      "**Note**: The context does not provide explicit steps for Bluetooth pairing, so additional guidance may be needed through the Help and Support resources or device-specific settings.\n"
     ]
    }
   ],
   "source": [
    "import ollama\n",
    "\n",
    "prompt = f\"\"\"\n",
    "Answer the question using the context.\n",
    "\n",
    "Question: {query}\n",
    "\n",
    "Context: {data[I[0][0]]}\n",
    "\"\"\"\n",
    "\n",
    "response = ollama.chat(\n",
    "    model='qwen3:4b',\n",
    "    messages=[{'role': 'user', 'content': prompt}]\n",
    ")\n",
    "\n",
    "print(response['message']['content'])"
   ]
  },
  {
   "cell_type": "code",
   "execution_count": 41,
   "id": "45ac65d3",
   "metadata": {},
   "outputs": [
    {
     "name": "stdout",
     "output_type": "stream",
     "text": [
      "To connect to a Bluetooth network (personal area network, or PAN), follow these steps based on the context provided:\n",
      "\n",
      "1. **Ensure Bluetooth is enabled**: Verify that your device's Bluetooth is turned on. This is typically done through the device's settings or a dedicated Bluetooth icon in the notification area.\n",
      "\n",
      "2. **Access Network and Sharing Center**: \n",
      "   - From the Start screen, type \"Control Panel\" and select it.\n",
      "   - Navigate to **Network and Internet > Network and Sharing Center**.\n",
      "\n",
      "3. **Set up a Bluetooth connection**:\n",
      "   - In the Network and Sharing Center, look for options related to Bluetooth devices or PANs. The context mentions that the center allows setting up connections, so you may need to manually search for or pair devices.\n",
      "   - If no Bluetooth options are visible, check the Help and Support links provided in the context for further guidance.\n",
      "\n",
      "4. **Pair devices**: \n",
      "   - Bluetooth devices (e.g., printers, speakers) must be within 10 meters of each other. Enable Bluetooth on both devices and follow the on-screen pairing prompts to establish a connection.\n",
      "\n",
      "5. **Confirm the connection**: Once paired, devices will communicate directly within the PAN. For troubleshooting, use the Network and Sharing Center to diagnose issues.\n",
      "\n",
      "**Note**: The context does not provide explicit steps for Bluetooth pairing, so additional guidance may be needed through the Help and Support resources or device-specific settings.\n"
     ]
    }
   ],
   "source": [
    "## cleaning \n",
    "import re\n",
    "\n",
    "raw_content = response['message']['content']\n",
    "\n",
    "# Remove all <think>...</think> tags and their content\n",
    "clean_content = re.sub(r'<think>.*?</think>', '', raw_content, flags=re.DOTALL)\n",
    "\n",
    "clean_content = clean_content.strip()\n",
    "\n",
    "query_response = clean_content\n",
    "print(query_response)"
   ]
  },
  {
   "cell_type": "markdown",
   "id": "67f6a0d2",
   "metadata": {},
   "source": [
    "# Feedback"
   ]
  },
  {
   "cell_type": "code",
   "execution_count": 42,
   "id": "0582f0b1",
   "metadata": {},
   "outputs": [],
   "source": [
    "feedback = \"Bluetooth connections can now work up till 25 metres.\""
   ]
  },
  {
   "cell_type": "markdown",
   "id": "a0c6a28b",
   "metadata": {},
   "source": [
    "# LLM Call for updating chunk"
   ]
  },
  {
   "cell_type": "code",
   "execution_count": 44,
   "id": "9cee6253",
   "metadata": {},
   "outputs": [
    {
     "name": "stdout",
     "output_type": "stream",
     "text": [
      "<think>\n",
      "Okay, let's see. The user wants me to incorporate the feedback into the chunk. The feedback says that Bluetooth connections can now work up to 25 meters. The original chunk mentions that Bluetooth devices must be within 10 meters. So I need to update that part.\n",
      "\n",
      "Looking at the original chunk, the relevant sentence is: \"devices must be relatively close together—typically within 10 meters (approximately 33 feet) of each other.\" The feedback changes that to 25 meters. So I should replace the 10 meters with 25 meters. Let me check if there's any other mention of Bluetooth in the chunk. The rest of the chunk is about connecting to a WLAN and using the Network and Sharing Center, so that part stays the same. Just need to adjust the Bluetooth range. Make sure to keep the rest of the text as is, only changing that specific sentence. Alright, that should do it.\n",
      "</think>\n",
      "\n",
      "be equipped with one or more of the following wireless devices: ● WLAN device—Connects the tablet to wireless local area networks (commonly referred to as WiFi networks, wireless LANs, or WLANs) in corporate offices, your home, and public places such as airports, restaurants, coffee shops, hotels, and universities. In a WLAN, the mobile wireless device in your tablet communicates with a wireless router or a wireless access point. ● Bluetooth device—Creates a personal area network (PAN) to connect to other Bluetoothenabled devices such as tablets, phones, printers, headsets, speakers, and cameras. In a PAN, each device communicates directly with other devices, and devices must be relatively close together—typically within 25 meters (approximately 82 feet) of each other. For more information about wireless technology, the Internet, and networking, see the information and website links provided in Help and Support. ▲ From the Start screen, tap , type help, and then select Help and Support. ‒ or – From the Windows desktop, tap the question mark icon in the notification area, at the far right of the taskbar. Using the wireless controls You can control the wireless devices in your tablet using the operating system controls. The Network and Sharing Center allows you to set up a connection or network, connect to a network, and diagnose and repair network problems. To use operating system controls: 1. From the Start screen, tap , type control panel, and then select Control Panel. 2. Select Network and Internet, and then select Network and Sharing Center. For more information, see the information provided in Help and Support. ▲ From the Start screen, tap , type help, and then select Help and Support. ‒ or – From the Windows desktop, tap the question mark icon in the notification area, at the far right of the taskbar. Connecting to a wireless network 3 Connecting to a WLAN To connect to a WLAN, follow these steps: 1. Be sure that the WLAN device is on. 2. Swipe from the right edge of the Start screen or the Windows desktop, to reveal the charms. 3. Select Settings, and then tap the network status icon. 4. Select your WLAN from the list. 5. Tap Connect. If the WLAN is a security-enabled WLAN, you are prompted to enter a security code. Type the code, and then tap Next to complete the connection. NOTE: If no WLANs are listed, you may be out of range of a wireless router or access point. NOTE: If you do not see the WLAN you want to connect to, from the Windows desktop, tap and hold the network status icon, and then select Open Network and Sharing Center. Tap Set up a new connection or network. A list of options is displayed, allowing you to manually search for and connect to a network or to create a new network connection. 6. Follow the on-screen instructions to complete the connection. After the connection is made, tap the network status icon in the notification area, at the far right\n"
     ]
    }
   ],
   "source": [
    "import ollama\n",
    "\n",
    "prompt = f\"\"\"\n",
    "chunk: {data[I[0][0]]}\n",
    "----\n",
    "feedback: {feedback}\n",
    "----\n",
    "response: {query_response}\n",
    "----\n",
    "\n",
    "You are an AI agent in a RAG workflow. The user had queried, a chunk was retrieved and you provided a response.\n",
    "Now the user wants to modify the chunk with the new information.\n",
    "\n",
    "Your task is to carefully incorporate the feedback into the chunk.\n",
    "\n",
    "Do NOT paraphrase or rephrase the entire chunk. Instead, reframe only the necessary sentence(s) to fully integrate the feedback.\n",
    "\n",
    "Print ONLY AND ONLY the updated chunk, exactly as it should be, without any additional comments, recommendations, or introductory text.\n",
    "\n",
    "After updating, ensure the entire chunk is printed with the feedback fully incorporated.\n",
    "For example if the chunk is: 'after that reset. The color should be green'. And we update it to dark green. Then return only this:\n",
    "'after that reset. The color should be dark green.'\n",
    "\"\"\"\n",
    "\n",
    "\n",
    "response = ollama.chat(\n",
    "    model='qwen3:4b',\n",
    "    messages=[{'role': 'user', 'content': prompt}]\n",
    ")\n",
    "\n",
    "print(response['message']['content'])"
   ]
  },
  {
   "cell_type": "markdown",
   "id": "f473e4e2",
   "metadata": {},
   "source": [
    "## Update Chunk"
   ]
  },
  {
   "cell_type": "code",
   "execution_count": 45,
   "id": "379b0b17",
   "metadata": {},
   "outputs": [
    {
     "name": "stdout",
     "output_type": "stream",
     "text": [
      "be equipped with one or more of the following wireless devices: ● WLAN device—Connects the tablet to wireless local area networks (commonly referred to as WiFi networks, wireless LANs, or WLANs) in corporate offices, your home, and public places such as airports, restaurants, coffee shops, hotels, and universities. In a WLAN, the mobile wireless device in your tablet communicates with a wireless router or a wireless access point. ● Bluetooth device—Creates a personal area network (PAN) to connect to other Bluetoothenabled devices such as tablets, phones, printers, headsets, speakers, and cameras. In a PAN, each device communicates directly with other devices, and devices must be relatively close together—typically within 25 meters (approximately 82 feet) of each other. For more information about wireless technology, the Internet, and networking, see the information and website links provided in Help and Support. ▲ From the Start screen, tap , type help, and then select Help and Support. ‒ or – From the Windows desktop, tap the question mark icon in the notification area, at the far right of the taskbar. Using the wireless controls You can control the wireless devices in your tablet using the operating system controls. The Network and Sharing Center allows you to set up a connection or network, connect to a network, and diagnose and repair network problems. To use operating system controls: 1. From the Start screen, tap , type control panel, and then select Control Panel. 2. Select Network and Internet, and then select Network and Sharing Center. For more information, see the information provided in Help and Support. ▲ From the Start screen, tap , type help, and then select Help and Support. ‒ or – From the Windows desktop, tap the question mark icon in the notification area, at the far right of the taskbar. Connecting to a wireless network 3 Connecting to a WLAN To connect to a WLAN, follow these steps: 1. Be sure that the WLAN device is on. 2. Swipe from the right edge of the Start screen or the Windows desktop, to reveal the charms. 3. Select Settings, and then tap the network status icon. 4. Select your WLAN from the list. 5. Tap Connect. If the WLAN is a security-enabled WLAN, you are prompted to enter a security code. Type the code, and then tap Next to complete the connection. NOTE: If no WLANs are listed, you may be out of range of a wireless router or access point. NOTE: If you do not see the WLAN you want to connect to, from the Windows desktop, tap and hold the network status icon, and then select Open Network and Sharing Center. Tap Set up a new connection or network. A list of options is displayed, allowing you to manually search for and connect to a network or to create a new network connection. 6. Follow the on-screen instructions to complete the connection. After the connection is made, tap the network status icon in the notification area, at the far right\n"
     ]
    }
   ],
   "source": [
    "import re\n",
    "\n",
    "raw_content = response['message']['content']\n",
    "\n",
    "# Remove all <think>...</think> tags and their content\n",
    "clean_content = re.sub(r'<think>.*?</think>', '', raw_content, flags=re.DOTALL)\n",
    "\n",
    "clean_content = clean_content.strip()\n",
    "\n",
    "print(clean_content)"
   ]
  },
  {
   "cell_type": "code",
   "execution_count": 46,
   "id": "17c65866",
   "metadata": {},
   "outputs": [],
   "source": [
    "# Create embedding for updated content\n",
    "new_embedding = embedder.encode([clean_content], convert_to_numpy=True)\n",
    "normalized_new_embedding = normalize_embeddings(new_embedding)\n",
    "\n",
    "# Remove the vector at index I[0][0]\n",
    "index = faiss.IndexFlatIP(dimension)  # Create fresh index\n",
    "mask = np.ones(len(normalized_embeddings), dtype=bool)\n",
    "mask[I[0][0]] = False\n",
    "filtered_embeddings = normalized_embeddings[mask]\n",
    "\n",
    "# Add all vectors except the one we want to replace\n",
    "index.add(filtered_embeddings)\n",
    "\n",
    "# Add the new normalized embedding\n",
    "index.add(normalized_new_embedding)\n",
    "\n",
    "\n",
    "# Update the data list as well\n",
    "data = [x for i, x in enumerate(data) if i != I[0][0]]\n",
    "data.append(clean_content)"
   ]
  },
  {
   "cell_type": "markdown",
   "id": "9d06e908",
   "metadata": {},
   "source": [
    "# New Query"
   ]
  },
  {
   "cell_type": "code",
   "execution_count": 47,
   "id": "570868d1",
   "metadata": {},
   "outputs": [],
   "source": [
    "query = \"What is the bluetooth range?\""
   ]
  },
  {
   "cell_type": "code",
   "execution_count": 48,
   "id": "3cef7f9d",
   "metadata": {},
   "outputs": [],
   "source": [
    "query_embedding = embedder.encode([query], convert_to_numpy=True)\n",
    "normalized_query = normalize_embeddings(query_embedding)\n"
   ]
  },
  {
   "cell_type": "code",
   "execution_count": 50,
   "id": "352ffa6b",
   "metadata": {},
   "outputs": [],
   "source": [
    "k = 1  # number of nearest neighbors\n",
    "D, I = index.search(normalized_query, k)\n"
   ]
  },
  {
   "cell_type": "code",
   "execution_count": 51,
   "id": "65d52aa9",
   "metadata": {},
   "outputs": [
    {
     "data": {
      "text/plain": [
       "'be equipped with one or more of the following wireless devices: ● WLAN device—Connects the tablet to wireless local area networks (commonly referred to as WiFi networks, wireless LANs, or WLANs) in corporate offices, your home, and public places such as airports, restaurants, coffee shops, hotels, and universities. In a WLAN, the mobile wireless device in your tablet communicates with a wireless router or a wireless access point. ● Bluetooth device—Creates a personal area network (PAN) to connect to other Bluetoothenabled devices such as tablets, phones, printers, headsets, speakers, and cameras. In a PAN, each device communicates directly with other devices, and devices must be relatively close together—typically within 25 meters (approximately 82 feet) of each other. For more information about wireless technology, the Internet, and networking, see the information and website links provided in Help and Support. ▲ From the Start screen, tap , type help, and then select Help and Support. ‒ or – From the Windows desktop, tap the question mark icon in the notification area, at the far right of the taskbar. Using the wireless controls You can control the wireless devices in your tablet using the operating system controls. The Network and Sharing Center allows you to set up a connection or network, connect to a network, and diagnose and repair network problems. To use operating system controls: 1. From the Start screen, tap , type control panel, and then select Control Panel. 2. Select Network and Internet, and then select Network and Sharing Center. For more information, see the information provided in Help and Support. ▲ From the Start screen, tap , type help, and then select Help and Support. ‒ or – From the Windows desktop, tap the question mark icon in the notification area, at the far right of the taskbar. Connecting to a wireless network 3 Connecting to a WLAN To connect to a WLAN, follow these steps: 1. Be sure that the WLAN device is on. 2. Swipe from the right edge of the Start screen or the Windows desktop, to reveal the charms. 3. Select Settings, and then tap the network status icon. 4. Select your WLAN from the list. 5. Tap Connect. If the WLAN is a security-enabled WLAN, you are prompted to enter a security code. Type the code, and then tap Next to complete the connection. NOTE: If no WLANs are listed, you may be out of range of a wireless router or access point. NOTE: If you do not see the WLAN you want to connect to, from the Windows desktop, tap and hold the network status icon, and then select Open Network and Sharing Center. Tap Set up a new connection or network. A list of options is displayed, allowing you to manually search for and connect to a network or to create a new network connection. 6. Follow the on-screen instructions to complete the connection. After the connection is made, tap the network status icon in the notification area, at the far right'"
      ]
     },
     "execution_count": 51,
     "metadata": {},
     "output_type": "execute_result"
    }
   ],
   "source": [
    "data[I[0][0]]"
   ]
  },
  {
   "cell_type": "code",
   "execution_count": 52,
   "id": "478133fe",
   "metadata": {},
   "outputs": [
    {
     "name": "stdout",
     "output_type": "stream",
     "text": [
      "<think>\n",
      "Okay, so the question is asking about the Bluetooth range. Let me look through the provided context to find the relevant information.\n",
      "\n",
      "The context mentions a Bluetooth device which creates a personal area network (PAN). It says that in a PAN, each device communicates directly with others and must be relatively close together—typically within 25 meters (approximately 82 feet) of each other. \n",
      "\n",
      "So the key point here is that the Bluetooth range is about 25 meters. I should check if there's any other information that might contradict or add to this. The rest of the context talks about WLAN connections, but the Bluetooth part specifically states 25 meters. The note about being out of range for WLAN is separate, so it's not relevant here. \n",
      "\n",
      "Therefore, the answer should be that the Bluetooth range is typically within 25 meters or approximately 82 feet.\n",
      "</think>\n",
      "\n",
      "The Bluetooth range is typically within **25 meters (approximately 82 feet)**. This allows devices to communicate directly in a personal area network (PAN) when they are relatively close to each other.\n"
     ]
    }
   ],
   "source": [
    "import ollama\n",
    "\n",
    "prompt = f\"\"\"\n",
    "Answer the question using the context.\n",
    "\n",
    "Question: {query}\n",
    "\n",
    "Context: {data[I[0][0]]}\n",
    "\"\"\"\n",
    "\n",
    "response = ollama.chat(\n",
    "    model='qwen3:4b',\n",
    "    messages=[{'role': 'user', 'content': prompt}]\n",
    ")\n",
    "\n",
    "print(response['message']['content'])"
   ]
  },
  {
   "cell_type": "code",
   "execution_count": null,
   "id": "32446d49",
   "metadata": {},
   "outputs": [],
   "source": []
  }
 ],
 "metadata": {
  "kernelspec": {
   "display_name": "venv",
   "language": "python",
   "name": "python3"
  },
  "language_info": {
   "codemirror_mode": {
    "name": "ipython",
    "version": 3
   },
   "file_extension": ".py",
   "mimetype": "text/x-python",
   "name": "python",
   "nbconvert_exporter": "python",
   "pygments_lexer": "ipython3",
   "version": "3.12.3"
  }
 },
 "nbformat": 4,
 "nbformat_minor": 5
}
